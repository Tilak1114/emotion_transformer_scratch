{
  "cells": [
    {
      "cell_type": "code",
      "execution_count": 1,
      "metadata": {
        "colab": {
          "base_uri": "https://localhost:8080/"
        },
        "id": "m2SFmtoHW8g1",
        "outputId": "c7efc445-c867-45d1-c503-a86de44f43c9"
      },
      "outputs": [
        {
          "name": "stdout",
          "output_type": "stream",
          "text": [
            "Looking in indexes: https://pypi.org/simple, https://pypi.ngc.nvidia.com\n",
            "Requirement already satisfied: transformers in /Users/tilaksharma/opt/anaconda3/envs/DL/lib/python3.10/site-packages (4.33.3)\n",
            "Requirement already satisfied: tensorboardX in /Users/tilaksharma/opt/anaconda3/envs/DL/lib/python3.10/site-packages (2.6.2.2)\n",
            "Requirement already satisfied: filelock in /Users/tilaksharma/opt/anaconda3/envs/DL/lib/python3.10/site-packages (from transformers) (3.12.4)\n",
            "Requirement already satisfied: huggingface-hub<1.0,>=0.15.1 in /Users/tilaksharma/opt/anaconda3/envs/DL/lib/python3.10/site-packages (from transformers) (0.17.3)\n",
            "Requirement already satisfied: numpy>=1.17 in /Users/tilaksharma/opt/anaconda3/envs/DL/lib/python3.10/site-packages (from transformers) (1.26.0)\n",
            "Requirement already satisfied: packaging>=20.0 in /Users/tilaksharma/opt/anaconda3/envs/DL/lib/python3.10/site-packages (from transformers) (23.1)\n",
            "Requirement already satisfied: pyyaml>=5.1 in /Users/tilaksharma/opt/anaconda3/envs/DL/lib/python3.10/site-packages (from transformers) (6.0.1)\n",
            "Requirement already satisfied: regex!=2019.12.17 in /Users/tilaksharma/opt/anaconda3/envs/DL/lib/python3.10/site-packages (from transformers) (2023.8.8)\n",
            "Requirement already satisfied: requests in /Users/tilaksharma/opt/anaconda3/envs/DL/lib/python3.10/site-packages (from transformers) (2.31.0)\n",
            "Requirement already satisfied: tokenizers!=0.11.3,<0.14,>=0.11.1 in /Users/tilaksharma/opt/anaconda3/envs/DL/lib/python3.10/site-packages (from transformers) (0.13.3)\n",
            "Requirement already satisfied: safetensors>=0.3.1 in /Users/tilaksharma/opt/anaconda3/envs/DL/lib/python3.10/site-packages (from transformers) (0.3.3)\n",
            "Requirement already satisfied: tqdm>=4.27 in /Users/tilaksharma/opt/anaconda3/envs/DL/lib/python3.10/site-packages (from transformers) (4.66.1)\n",
            "Requirement already satisfied: protobuf>=3.20 in /Users/tilaksharma/opt/anaconda3/envs/DL/lib/python3.10/site-packages (from tensorboardX) (4.24.4)\n",
            "Requirement already satisfied: fsspec in /Users/tilaksharma/opt/anaconda3/envs/DL/lib/python3.10/site-packages (from huggingface-hub<1.0,>=0.15.1->transformers) (2023.6.0)\n",
            "Requirement already satisfied: typing-extensions>=3.7.4.3 in /Users/tilaksharma/opt/anaconda3/envs/DL/lib/python3.10/site-packages (from huggingface-hub<1.0,>=0.15.1->transformers) (4.8.0)\n",
            "Requirement already satisfied: charset-normalizer<4,>=2 in /Users/tilaksharma/opt/anaconda3/envs/DL/lib/python3.10/site-packages (from requests->transformers) (3.2.0)\n",
            "Requirement already satisfied: idna<4,>=2.5 in /Users/tilaksharma/opt/anaconda3/envs/DL/lib/python3.10/site-packages (from requests->transformers) (3.4)\n",
            "Requirement already satisfied: urllib3<3,>=1.21.1 in /Users/tilaksharma/opt/anaconda3/envs/DL/lib/python3.10/site-packages (from requests->transformers) (2.0.5)\n",
            "Requirement already satisfied: certifi>=2017.4.17 in /Users/tilaksharma/opt/anaconda3/envs/DL/lib/python3.10/site-packages (from requests->transformers) (2023.7.22)\n"
          ]
        }
      ],
      "source": [
        "! pip install transformers tensorboardX"
      ]
    },
    {
      "cell_type": "code",
      "execution_count": 2,
      "metadata": {
        "colab": {
          "base_uri": "https://localhost:8080/"
        },
        "id": "4suEls1eVidQ",
        "outputId": "4986c3d6-2901-4c32-f765-a0834f33cde8"
      },
      "outputs": [
        {
          "ename": "ModuleNotFoundError",
          "evalue": "No module named 'google.colab'",
          "output_type": "error",
          "traceback": [
            "\u001b[0;31m---------------------------------------------------------------------------\u001b[0m",
            "\u001b[0;31mModuleNotFoundError\u001b[0m                       Traceback (most recent call last)",
            "\u001b[1;32m/Users/tilaksharma/VsCodeProjects/transformer_scratch/note_book.ipynb Cell 2\u001b[0m line \u001b[0;36m1\n\u001b[0;32m----> <a href='vscode-notebook-cell:/Users/tilaksharma/VsCodeProjects/transformer_scratch/note_book.ipynb#W1sZmlsZQ%3D%3D?line=0'>1</a>\u001b[0m \u001b[39mfrom\u001b[39;00m \u001b[39mgoogle\u001b[39;00m\u001b[39m.\u001b[39;00m\u001b[39mcolab\u001b[39;00m \u001b[39mimport\u001b[39;00m drive\n\u001b[1;32m      <a href='vscode-notebook-cell:/Users/tilaksharma/VsCodeProjects/transformer_scratch/note_book.ipynb#W1sZmlsZQ%3D%3D?line=1'>2</a>\u001b[0m drive\u001b[39m.\u001b[39mmount(\u001b[39m'\u001b[39m\u001b[39m/content/drive\u001b[39m\u001b[39m'\u001b[39m)\n",
            "\u001b[0;31mModuleNotFoundError\u001b[0m: No module named 'google.colab'"
          ]
        }
      ],
      "source": [
        "# from google.colab import drive\n",
        "# drive.mount('/content/drive')"
      ]
    },
    {
      "cell_type": "code",
      "execution_count": 3,
      "metadata": {
        "id": "oPVZjJ6wV58-"
      },
      "outputs": [],
      "source": [
        "DATA_PATH = './dataset/'\n",
        "PROJECT_DIR = './'"
      ]
    },
    {
      "cell_type": "code",
      "execution_count": 4,
      "metadata": {
        "id": "-CPJx030Rb6o"
      },
      "outputs": [],
      "source": [
        "import torch\n",
        "import torch.nn as nn\n",
        "import pandas as pd\n",
        "import matplotlib.pyplot as plt\n",
        "import seaborn as sns"
      ]
    },
    {
      "cell_type": "code",
      "execution_count": 5,
      "metadata": {
        "colab": {
          "base_uri": "https://localhost:8080/"
        },
        "id": "lXPqVVj-Rb6q",
        "outputId": "894a15e8-3fdc-42e0-da1e-ab35a37c4dc2"
      },
      "outputs": [
        {
          "name": "stderr",
          "output_type": "stream",
          "text": [
            "/var/folders/2l/l_lnhh8n4y3c6tw0v92pbxf80000gn/T/ipykernel_10343/1723410171.py:2: ParserWarning: Falling back to the 'python' engine because the 'c' engine does not support regex separators (separators > 1 char and different from '\\s+' are interpreted as regex); you can avoid this warning by specifying engine='python'.\n",
            "  dataframe = pd.read_csv(DATA_PATH+'/train_data.txt', delimiter=':::', names=column_names)\n"
          ]
        }
      ],
      "source": [
        "column_names = ['id', 'movie_name', 'genre', 'description']\n",
        "dataframe = pd.read_csv(DATA_PATH+'/train_data.txt', delimiter=':::', names=column_names)"
      ]
    },
    {
      "cell_type": "code",
      "execution_count": 6,
      "metadata": {
        "id": "WewcfdvbRb6r"
      },
      "outputs": [],
      "source": [
        "genre_col = dataframe['genre']\n",
        "\n",
        "dataframe = dataframe.drop(['genre', 'id'], axis=1)\n",
        "dataframe['genre'] = genre_col"
      ]
    },
    {
      "cell_type": "code",
      "execution_count": 7,
      "metadata": {
        "colab": {
          "base_uri": "https://localhost:8080/",
          "height": 597
        },
        "id": "dx5yv2_3Rb6r",
        "outputId": "7df6d10b-e0d6-4007-8d73-b8578d685921"
      },
      "outputs": [
        {
          "data": {
            "text/html": [
              "<div>\n",
              "<style scoped>\n",
              "    .dataframe tbody tr th:only-of-type {\n",
              "        vertical-align: middle;\n",
              "    }\n",
              "\n",
              "    .dataframe tbody tr th {\n",
              "        vertical-align: top;\n",
              "    }\n",
              "\n",
              "    .dataframe thead th {\n",
              "        text-align: right;\n",
              "    }\n",
              "</style>\n",
              "<table border=\"1\" class=\"dataframe\">\n",
              "  <thead>\n",
              "    <tr style=\"text-align: right;\">\n",
              "      <th></th>\n",
              "      <th>movie_name</th>\n",
              "      <th>description</th>\n",
              "      <th>genre</th>\n",
              "    </tr>\n",
              "  </thead>\n",
              "  <tbody>\n",
              "    <tr>\n",
              "      <th>0</th>\n",
              "      <td>Oscar et la dame rose (2009)</td>\n",
              "      <td>Listening in to a conversation between his do...</td>\n",
              "      <td>drama</td>\n",
              "    </tr>\n",
              "    <tr>\n",
              "      <th>1</th>\n",
              "      <td>Cupid (1997)</td>\n",
              "      <td>A brother and sister with a past incestuous r...</td>\n",
              "      <td>thriller</td>\n",
              "    </tr>\n",
              "    <tr>\n",
              "      <th>2</th>\n",
              "      <td>Young, Wild and Wonderful (1980)</td>\n",
              "      <td>As the bus empties the students for their fie...</td>\n",
              "      <td>adult</td>\n",
              "    </tr>\n",
              "    <tr>\n",
              "      <th>3</th>\n",
              "      <td>The Secret Sin (1915)</td>\n",
              "      <td>To help their unemployed father make ends mee...</td>\n",
              "      <td>drama</td>\n",
              "    </tr>\n",
              "    <tr>\n",
              "      <th>4</th>\n",
              "      <td>The Unrecovered (2007)</td>\n",
              "      <td>The film's title refers not only to the un-re...</td>\n",
              "      <td>drama</td>\n",
              "    </tr>\n",
              "    <tr>\n",
              "      <th>...</th>\n",
              "      <td>...</td>\n",
              "      <td>...</td>\n",
              "      <td>...</td>\n",
              "    </tr>\n",
              "    <tr>\n",
              "      <th>54209</th>\n",
              "      <td>\"Bonino\" (1953)</td>\n",
              "      <td>This short-lived NBC live sitcom centered on ...</td>\n",
              "      <td>comedy</td>\n",
              "    </tr>\n",
              "    <tr>\n",
              "      <th>54210</th>\n",
              "      <td>Dead Girls Don't Cry (????)</td>\n",
              "      <td>The NEXT Generation of EXPLOITATION. The sist...</td>\n",
              "      <td>horror</td>\n",
              "    </tr>\n",
              "    <tr>\n",
              "      <th>54211</th>\n",
              "      <td>Ronald Goedemondt: Ze bestaan echt (2008)</td>\n",
              "      <td>Ze bestaan echt, is a stand-up comedy about g...</td>\n",
              "      <td>documentary</td>\n",
              "    </tr>\n",
              "    <tr>\n",
              "      <th>54212</th>\n",
              "      <td>Make Your Own Bed (1944)</td>\n",
              "      <td>Walter and Vivian live in the country and hav...</td>\n",
              "      <td>comedy</td>\n",
              "    </tr>\n",
              "    <tr>\n",
              "      <th>54213</th>\n",
              "      <td>Nature's Fury: Storm of the Century (2006)</td>\n",
              "      <td>On Labor Day Weekend, 1935, the most intense ...</td>\n",
              "      <td>history</td>\n",
              "    </tr>\n",
              "  </tbody>\n",
              "</table>\n",
              "<p>54214 rows × 3 columns</p>\n",
              "</div>"
            ],
            "text/plain": [
              "                                         movie_name  \\\n",
              "0                     Oscar et la dame rose (2009)    \n",
              "1                                     Cupid (1997)    \n",
              "2                 Young, Wild and Wonderful (1980)    \n",
              "3                            The Secret Sin (1915)    \n",
              "4                           The Unrecovered (2007)    \n",
              "...                                             ...   \n",
              "54209                              \"Bonino\" (1953)    \n",
              "54210                  Dead Girls Don't Cry (????)    \n",
              "54211    Ronald Goedemondt: Ze bestaan echt (2008)    \n",
              "54212                     Make Your Own Bed (1944)    \n",
              "54213   Nature's Fury: Storm of the Century (2006)    \n",
              "\n",
              "                                             description          genre  \n",
              "0       Listening in to a conversation between his do...         drama   \n",
              "1       A brother and sister with a past incestuous r...      thriller   \n",
              "2       As the bus empties the students for their fie...         adult   \n",
              "3       To help their unemployed father make ends mee...         drama   \n",
              "4       The film's title refers not only to the un-re...         drama   \n",
              "...                                                  ...            ...  \n",
              "54209   This short-lived NBC live sitcom centered on ...        comedy   \n",
              "54210   The NEXT Generation of EXPLOITATION. The sist...        horror   \n",
              "54211   Ze bestaan echt, is a stand-up comedy about g...   documentary   \n",
              "54212   Walter and Vivian live in the country and hav...        comedy   \n",
              "54213   On Labor Day Weekend, 1935, the most intense ...       history   \n",
              "\n",
              "[54214 rows x 3 columns]"
            ]
          },
          "execution_count": 7,
          "metadata": {},
          "output_type": "execute_result"
        }
      ],
      "source": [
        "dataframe"
      ]
    },
    {
      "cell_type": "markdown",
      "metadata": {
        "id": "vI_zYUJPRb6r"
      },
      "source": [
        "### Exploratory Data Analysis"
      ]
    },
    {
      "cell_type": "code",
      "execution_count": 8,
      "metadata": {
        "colab": {
          "base_uri": "https://localhost:8080/",
          "height": 221
        },
        "id": "B14phoXCRb6s",
        "outputId": "28c21149-aab3-411c-8376-1e769c880e00"
      },
      "outputs": [
        {
          "name": "stderr",
          "output_type": "stream",
          "text": [
            "/var/folders/2l/l_lnhh8n4y3c6tw0v92pbxf80000gn/T/ipykernel_10343/3491894337.py:3: FutureWarning: \n",
            "\n",
            "Passing `palette` without assigning `hue` is deprecated and will be removed in v0.14.0. Assign the `x` variable to `hue` and set `legend=False` for the same effect.\n",
            "\n",
            "  sns.countplot(x='genre', data=dataframe, palette='crest')\n"
          ]
        },
        {
          "data": {
            "image/png": "[encoded data removed]",
            "text/plain": [
              "<Figure size 2800x800 with 1 Axes>"
            ]
          },
          "metadata": {},
          "output_type": "display_data"
        }
      ],
      "source": [
        "sns.set(style=\"darkgrid\")\n",
        "plt.figure(figsize=(28, 8))\n",
        "sns.countplot(x='genre', data=dataframe, palette='crest')\n",
        "plt.title('Distribution of Genres')\n",
        "plt.xlabel('Genres')\n",
        "plt.ylabel('Count')\n",
        "plt.show()"
      ]
    },
    {
      "cell_type": "code",
      "execution_count": 9,
      "metadata": {
        "id": "SxYRWquyUok_"
      },
      "outputs": [],
      "source": [
        "top_10_categories = dataframe['genre'].value_counts().head(10).index.tolist()\n",
        "dataframe = dataframe[dataframe['genre'].isin(top_10_categories)]"
      ]
    },
    {
      "cell_type": "code",
      "execution_count": 10,
      "metadata": {
        "colab": {
          "base_uri": "https://localhost:8080/",
          "height": 466
        },
        "id": "PW9paerLUt_G",
        "outputId": "66692708-de7e-4fcc-8520-038af81626bb"
      },
      "outputs": [
        {
          "name": "stderr",
          "output_type": "stream",
          "text": [
            "/var/folders/2l/l_lnhh8n4y3c6tw0v92pbxf80000gn/T/ipykernel_10343/3597019316.py:3: FutureWarning: \n",
            "\n",
            "Passing `palette` without assigning `hue` is deprecated and will be removed in v0.14.0. Assign the `x` variable to `hue` and set `legend=False` for the same effect.\n",
            "\n",
            "  sns.countplot(x='genre', data=dataframe, palette='crest')\n"
          ]
        },
        {
          "data": {
            "image/png": "[encoded data removed]",
            "text/plain": [
              "<Figure size 1200x800 with 1 Axes>"
            ]
          },
          "metadata": {},
          "output_type": "display_data"
        }
      ],
      "source": [
        "sns.set(style=\"darkgrid\")\n",
        "plt.figure(figsize=(12, 8))\n",
        "sns.countplot(x='genre', data=dataframe, palette='crest')\n",
        "plt.title('Distribution of top 10 Genres')\n",
        "plt.xlabel('Genres')\n",
        "plt.ylabel('Count')\n",
        "plt.show()"
      ]
    },
    {
      "cell_type": "code",
      "execution_count": 14,
      "metadata": {},
      "outputs": [
        {
          "name": "stderr",
          "output_type": "stream",
          "text": [
            "/var/folders/2l/l_lnhh8n4y3c6tw0v92pbxf80000gn/T/ipykernel_10343/2523989113.py:1: SettingWithCopyWarning: \n",
            "A value is trying to be set on a copy of a slice from a DataFrame.\n",
            "Try using .loc[row_indexer,col_indexer] = value instead\n",
            "\n",
            "See the caveats in the documentation: https://pandas.pydata.org/pandas-docs/stable/user_guide/indexing.html#returning-a-view-versus-a-copy\n",
            "  dataframe[\"Words Per description\"] = dataframe[\"description\"].str.split().apply(len)\n"
          ]
        }
      ],
      "source": [
        "dataframe[\"Words Per description\"] = dataframe[\"description\"].str.split().apply(len)"
      ]
    },
    {
      "cell_type": "code",
      "execution_count": 17,
      "metadata": {},
      "outputs": [
        {
          "data": {
            "text/plain": [
              "<Axes: title={'center': 'Words Per description'}, xlabel='genre'>"
            ]
          },
          "execution_count": 17,
          "metadata": {},
          "output_type": "execute_result"
        },
        {
          "data": {
            "image/png": "[encoded data removed]",
            "text/plain": [
              "<Figure size 640x480 with 1 Axes>"
            ]
          },
          "metadata": {},
          "output_type": "display_data"
        }
      ],
      "source": [
        "dataframe.boxplot(\"Words Per description\", by=\"genre\", grid=False,\n",
        "              showfliers=False, color=\"black\")"
      ]
    },
    {
      "cell_type": "markdown",
      "metadata": {
        "id": "PNJetRL0Rb6t"
      },
      "source": [
        "## Transformer from scratch"
      ]
    },
    {
      "cell_type": "code",
      "execution_count": 86,
      "metadata": {
        "id": "pELblxtTRb6t"
      },
      "outputs": [],
      "source": [
        "import numpy as np"
      ]
    },
    {
      "cell_type": "code",
      "execution_count": 87,
      "metadata": {
        "id": "VbtWspZmRb6u"
      },
      "outputs": [],
      "source": [
        "class InputEmbedding(nn.Module):\n",
        "    def __init__(self, model_dim, vocab_size):\n",
        "        super().__init__()\n",
        "        self.model_dim = model_dim\n",
        "        self.vocab_size = vocab_size\n",
        "        self.embedding = nn.Embedding(vocab_size, model_dim)\n",
        "\n",
        "    def forward(self, x):\n",
        "        return self.embedding(x) * np.sqrt(self.model_dim)"
      ]
    },
    {
      "cell_type": "code",
      "execution_count": 88,
      "metadata": {
        "id": "fsjK1mA9Rb6u"
      },
      "outputs": [],
      "source": [
        "class PositionalEmbedding(nn.Module):\n",
        "    def __init__(self, model_dim, seq_len, dropout):\n",
        "        super().__init__()\n",
        "        self.model_dim = model_dim\n",
        "        self.seq_len = seq_len\n",
        "        self.dropout = nn.Dropout(dropout)\n",
        "\n",
        "        pos_embed = torch.zeros(seq_len, model_dim)\n",
        "        positions = torch.arange(0, seq_len, dtype=torch.float).unsqueeze(1)\n",
        "        denom = torch.exp(torch.arange(0, model_dim, 2, dtype=torch.float)*(np.log(10000.0)/model_dim))\n",
        "\n",
        "        pos_embed[:, 0::2] = torch.sin(positions * denom)\n",
        "        pos_embed[:, 1::2] = torch.cos(positions * denom)\n",
        "\n",
        "        pos_embed = pos_embed.unsqueeze(0) # (1, seq_len, model_dim)\n",
        "\n",
        "        self.register_buffer('pos_embed', pos_embed)\n",
        "\n",
        "    def forward(self, x):\n",
        "        x = x + (self.pos_embed[:, :x.shape[1], :]).requires_grad_(False)\n",
        "        return self.dropout(x)"
      ]
    },
    {
      "cell_type": "code",
      "execution_count": 89,
      "metadata": {
        "id": "nwJx9QrxRb6u"
      },
      "outputs": [],
      "source": [
        "class LayerNormalization(nn.Module):\n",
        "    def __init__(self, eps = 10**-6):\n",
        "        super().__init__()\n",
        "        self.eps = eps\n",
        "        self.gamma = nn.Parameter(torch.ones(1)) # Multiplicative\n",
        "        self.beta =  nn.Parameter(torch.zeros(1)) # Additive\n",
        "\n",
        "    def forward(self, x):\n",
        "        # x is (batch_size, seq_len, embed_dim)\n",
        "        mean = x.mean(dim = -1, keepdim = True)\n",
        "        std = x.std(dim = -1, keepdim = True)\n",
        "        return self.gamma * (x-mean)/(std+self.eps) + self.beta"
      ]
    },
    {
      "cell_type": "code",
      "execution_count": 90,
      "metadata": {
        "id": "SWYfv9WJRb6u"
      },
      "outputs": [],
      "source": [
        "class FeedForward(nn.Module):\n",
        "    def __init__(self, model_dim, out_dim, dropout):\n",
        "        super().__init__()\n",
        "        self.fc1 = nn.Linear(model_dim, out_dim)\n",
        "        self.dropout = nn.Dropout(dropout)\n",
        "        self.fc2 = nn.Linear(out_dim, model_dim)\n",
        "\n",
        "    def forward(self, x):\n",
        "        # (batch, seq_len, embed_dim) -> (batch, seq_len, out_dim) -> (batch, seq_len, embed_dim)\n",
        "        x = self.fc1(x)\n",
        "        x = self.dropout(x)\n",
        "        x = self.fc2(x)\n",
        "        return x"
      ]
    },
    {
      "cell_type": "code",
      "execution_count": 91,
      "metadata": {
        "id": "LB8tKJw9Rb6v"
      },
      "outputs": [],
      "source": [
        "class MultiHeadAttention(nn.Module):\n",
        "    def __init__(self, model_dim, num_heads, dropout):\n",
        "        super().__init__()\n",
        "        self.model_dim = model_dim\n",
        "        self.heads = num_heads\n",
        "        assert model_dim % num_heads == 0, \"Embedding dimension is not divisible by number of heads\"\n",
        "\n",
        "        self.head_dim = model_dim//num_heads\n",
        "\n",
        "        self.w_q = nn.Linear(model_dim, model_dim)\n",
        "        self.w_k = nn.Linear(model_dim, model_dim)\n",
        "        self.w_v = nn.Linear(model_dim, model_dim)\n",
        "\n",
        "        self.w_o = nn.Linear(model_dim, model_dim)\n",
        "        self.dropout = nn.Dropout(dropout)\n",
        "\n",
        "    @staticmethod\n",
        "    def attention(query, key, value, mask, dropout: nn.Dropout):\n",
        "        head_dim = query.shape[-1]\n",
        "\n",
        "        # Matrix multiplication of\n",
        "        # (batch, num_heads, seq_len, head_dim) x (batch, num_heads, head_dim, seq_len) --> (batch, num_heads, seq_len, seq_len)\n",
        "\n",
        "        attention_scores = (query @ key.transpose(-2, -1))/np.sqrt(head_dim)\n",
        "\n",
        "        if mask is not None:\n",
        "            expanded_mask = mask.unsqueeze(1).unsqueeze(2).expand_as(attention_scores)\n",
        "            attention_scores.masked_fill_(expanded_mask == 0, -1e9)\n",
        "\n",
        "        attention_scores = attention_scores.softmax(dim = -1) #(batch, num_heads, seq_len, seq_len)\n",
        "\n",
        "        if dropout is not None:\n",
        "            attention_scores = dropout(attention_scores)\n",
        "\n",
        "        return (attention_scores @ value), attention_scores\n",
        "\n",
        "    def forward(self, q, k, v, mask):\n",
        "        # (batch, seq_l, embed_dim)\n",
        "        query = self.w_q(q)\n",
        "        key = self.w_k(k)\n",
        "        value = self.w_v(v)\n",
        "\n",
        "        # (batch, seq_len, embed_dim) -> (batch, seq_len, num_heads, head_dim) -> (batch, num_heads, seq_len, head_dim)\n",
        "        query = query.view(query.shape[0], query.shape[1], self.heads, self.head_dim).transpose(1, 2)\n",
        "        key = key.view(key.shape[0], key.shape[1], self.heads, self.head_dim).transpose(1, 2)\n",
        "        value = value.view(value.shape[0], value.shape[1], self.heads, self.head_dim).transpose(1, 2)\n",
        "\n",
        "        x, self.attention_scores = MultiHeadAttention.attention(query, key, value, mask, self.dropout)\n",
        "\n",
        "        # (batch, num_heads, seq_len, head_dim) -> (batch, seq_len, num_heads, head_dim) -> (batch, seq_len, embed_dim)\n",
        "        x = x.transpose(1, 2).contiguous().view(x.shape[0], -1, self.heads*self.head_dim)\n",
        "\n",
        "        # (batch, seq_len, embed_dim) -> (batch, seq_len, embed_dim)\n",
        "        return self.w_o(x)"
      ]
    },
    {
      "cell_type": "code",
      "execution_count": 92,
      "metadata": {
        "id": "0MxnJ6ruRb6v"
      },
      "outputs": [],
      "source": [
        "class ResidualConnection(nn.Module):\n",
        "    def __init__(self, dropout):\n",
        "        super().__init__()\n",
        "        self.dropout = nn.Dropout(dropout)\n",
        "        self.norm = LayerNormalization()\n",
        "\n",
        "    def forward(self, x, sublayer):\n",
        "        return x + self.dropout(sublayer(self.norm(x)))"
      ]
    },
    {
      "cell_type": "code",
      "execution_count": 93,
      "metadata": {
        "id": "nQ3xbgj3Rb6v"
      },
      "outputs": [],
      "source": [
        "class EncoderBlock(nn.Module):\n",
        "    def __init__(self, self_attention_block: MultiHeadAttention, feed_forward: FeedForward, dropout: float):\n",
        "        super().__init__()\n",
        "        self.self_attention_block = self_attention_block\n",
        "        self.feed_forward_block = feed_forward\n",
        "        self.residual_connections = nn.ModuleList([ResidualConnection(dropout) for _ in range(2)])\n",
        "\n",
        "    def forward(self, x, src_mask):\n",
        "        x = self.residual_connections[0](x, lambda x: self.self_attention_block(x, x, x, src_mask))\n",
        "        x = self.residual_connections[1](x, self.feed_forward_block)\n",
        "        return x"
      ]
    },
    {
      "cell_type": "code",
      "execution_count": 94,
      "metadata": {
        "id": "f9Uz_LKoRb6v"
      },
      "outputs": [],
      "source": [
        "class Encoder(nn.Module):\n",
        "    def __init__(self, layers: nn.ModuleList):\n",
        "        super().__init__()\n",
        "        self.layers = layers\n",
        "        self.layer_norm = LayerNormalization()\n",
        "\n",
        "    def forward(self, x, mask):\n",
        "        for layer in self.layers:\n",
        "            x = layer(x, mask)\n",
        "        return self.layer_norm(x)"
      ]
    },
    {
      "cell_type": "code",
      "execution_count": 95,
      "metadata": {
        "id": "PjVIgMBSRb6v"
      },
      "outputs": [],
      "source": [
        "class ProjectionLayer(nn.Module):\n",
        "    def __init__(self, embed_dim, vocab_size):\n",
        "        super().__init__()\n",
        "        self.fc = nn.Linear(embed_dim, vocab_size)"
      ]
    },
    {
      "cell_type": "code",
      "execution_count": 96,
      "metadata": {
        "id": "i89kSKVBRb6v"
      },
      "outputs": [],
      "source": [
        "import torch.nn.functional as F\n",
        "\n",
        "class MultiLayerPerceptron(nn.Module):\n",
        "    def __init__(self, input_dim, hidden_dim, out_dim) -> None:\n",
        "        super().__init__()\n",
        "        self.fc1 = nn.Linear(input_dim, hidden_dim)\n",
        "        self.relu = nn.ReLU()\n",
        "        self.fc2 = nn.Linear(hidden_dim, out_dim)\n",
        "\n",
        "    def forward(self, x):\n",
        "        x = self.fc1(x)\n",
        "        x = self.relu(x)\n",
        "        x = self.fc2(x)\n",
        "        x = F.softmax(x, dim=1)\n",
        "        return x"
      ]
    },
    {
      "cell_type": "code",
      "execution_count": 97,
      "metadata": {
        "id": "XfdaaXvZRb6w"
      },
      "outputs": [],
      "source": [
        "class Model(nn.Module):\n",
        "    def __init__(self,\n",
        "                 input_embedding: InputEmbedding,\n",
        "                 pos_embedding: PositionalEmbedding,\n",
        "                 encoder: Encoder,\n",
        "                 mlp: MultiLayerPerceptron,\n",
        "                 ):\n",
        "        super().__init__()\n",
        "        self.encoder = encoder\n",
        "        self.input_embedding = input_embedding\n",
        "        self.position_embedding = pos_embedding\n",
        "        self.mlp = mlp\n",
        "\n",
        "    def forward(self, x, attention_mask):\n",
        "        x = self.input_embedding(x)\n",
        "        x = self.position_embedding(x)\n",
        "        x = self.encoder(x, attention_mask)\n",
        "        x = self.mlp(x[:, 0])\n",
        "        return x"
      ]
    },
    {
      "cell_type": "code",
      "execution_count": 98,
      "metadata": {
        "id": "GjsUcz_LRb6w"
      },
      "outputs": [],
      "source": [
        "from transformers import BertTokenizer\n",
        "from torch.utils.data import DataLoader, Dataset\n",
        "from sklearn.preprocessing import OneHotEncoder\n",
        "import json"
      ]
    },
    {
      "cell_type": "code",
      "execution_count": 99,
      "metadata": {
        "id": "oLnbSnwpRb6x"
      },
      "outputs": [],
      "source": [
        "class MyDataset(Dataset):\n",
        "    def __init__(self, tokenized_texts, encoded_labels):\n",
        "        self.tokenized_texts = tokenized_texts\n",
        "        self.encoded_labels = encoded_labels\n",
        "\n",
        "    def __len__(self):\n",
        "        return len(self.tokenized_texts[\"input_ids\"])\n",
        "\n",
        "    def __getitem__(self, idx):\n",
        "        return {\n",
        "            \"input_ids\": self.tokenized_texts[\"input_ids\"][idx],\n",
        "            \"attention_mask\": self.tokenized_texts[\"attention_mask\"][idx],\n",
        "            \"labels\": torch.tensor(self.encoded_labels[idx], dtype=torch.float32),\n",
        "        }"
      ]
    },
    {
      "cell_type": "code",
      "execution_count": 100,
      "metadata": {
        "id": "73LBKuFWRb6x"
      },
      "outputs": [],
      "source": [
        "def prepare_data(input_list, labels, label_encoder, config):\n",
        "\n",
        "    meta_data = {}\n",
        "\n",
        "    if config[\"tokenizer\"] == 'bert_tokenizer':\n",
        "        tokenizer = BertTokenizer.from_pretrained('bert-base-uncased')\n",
        "        meta_data['vocab_size'] = tokenizer.vocab_size\n",
        "    else:\n",
        "        raise Exception(\"Unknown Tokenizer\")\n",
        "\n",
        "    encoded_labels = label_encoder.fit_transform(labels)\n",
        "\n",
        "    tokenized_texts = tokenizer(input_list, padding='max_length', truncation=True,\n",
        "                                max_length=config[\"seq_len\"], return_tensors='pt',\n",
        "                                return_attention_mask='True')\n",
        "\n",
        "    dataset = MyDataset(tokenized_texts, encoded_labels)\n",
        "    dataloader = DataLoader(dataset, batch_size= config['batch_size'], shuffle=True)\n",
        "    return dataloader, meta_data"
      ]
    },
    {
      "cell_type": "code",
      "execution_count": 115,
      "metadata": {
        "id": "G7CNBwvoRb6x"
      },
      "outputs": [],
      "source": [
        "import json\n",
        "\n",
        "with open('/content/drive/MyDrive/Colab Projects/transformer_scratch/config.json', 'r') as json_file:\n",
        "    config = json.load(json_file)"
      ]
    },
    {
      "cell_type": "code",
      "execution_count": 117,
      "metadata": {
        "id": "BcUElnalRb6x"
      },
      "outputs": [],
      "source": [
        "from pathlib import Path\n",
        "\n",
        "def get_weights_path(config, epoch):\n",
        "    model_base = config[\"model_basename\"]\n",
        "    file_name = f'{model_base}epoch{epoch}.pth'\n",
        "    return str(Path('.')/file_name)"
      ]
    },
    {
      "cell_type": "code",
      "execution_count": 118,
      "metadata": {
        "colab": {
          "base_uri": "https://localhost:8080/",
          "height": 36
        },
        "id": "hBAH4HLcBVHl",
        "outputId": "c7ef8193-baf3-40b0-c544-14522f0be241"
      },
      "outputs": [
        {
          "data": {
            "application/vnd.google.colaboratory.intrinsic+json": {
              "type": "string"
            },
            "text/plain": [
              "'model_epoch10.pth'"
            ]
          },
          "execution_count": 118,
          "metadata": {},
          "output_type": "execute_result"
        }
      ],
      "source": [
        "get_weights_path(config, 10)"
      ]
    },
    {
      "cell_type": "code",
      "execution_count": 119,
      "metadata": {
        "id": "yj5h4_E3Rb6x"
      },
      "outputs": [],
      "source": [
        "def build_model(vocab_size, seq_len,\n",
        "                num_classes,\n",
        "                embed_dim=512, num_heads = 8,\n",
        "                num_encoders = 6,\n",
        "                dropout = 0.1, encoder_ff_out_dim = 2048) -> Model:\n",
        "    inp_embedding = InputEmbedding(embed_dim, vocab_size)\n",
        "    pos_embedding = PositionalEmbedding(embed_dim, seq_len, dropout)\n",
        "\n",
        "    encoder_blocks = []\n",
        "    for _ in range(num_encoders):\n",
        "        self_attention_block = MultiHeadAttention(embed_dim, num_heads, dropout)\n",
        "        feed_forward = FeedForward(embed_dim, encoder_ff_out_dim, dropout)\n",
        "        encoder_blocks.append(EncoderBlock(self_attention_block, feed_forward, dropout))\n",
        "\n",
        "    encoder = Encoder(nn.ModuleList(encoder_blocks))\n",
        "\n",
        "    mlp = MultiLayerPerceptron(embed_dim, 512, num_classes)\n",
        "\n",
        "    return Model(inp_embedding, pos_embedding, encoder, mlp)\n"
      ]
    },
    {
      "cell_type": "code",
      "execution_count": 105,
      "metadata": {
        "colab": {
          "base_uri": "https://localhost:8080/"
        },
        "id": "1BKdHxr5Rb6x",
        "outputId": "e32bb6e0-0868-4d38-eef4-4b5f968a17b6"
      },
      "outputs": [
        {
          "name": "stderr",
          "output_type": "stream",
          "text": [
            "/usr/local/lib/python3.10/dist-packages/sklearn/preprocessing/_encoders.py:868: FutureWarning: `sparse` was renamed to `sparse_output` in version 1.2 and will be removed in 1.4. `sparse_output` is ignored unless you leave `sparse` to its default value.\n",
            "  warnings.warn(\n"
          ]
        }
      ],
      "source": [
        "input_list = dataframe['description'].tolist()\n",
        "label_list = [[label] for label in dataframe['genre']]\n",
        "label_encoder = OneHotEncoder(sparse=False)\n",
        "\n",
        "dataloader, meta_data = prepare_data(input_list, label_list, label_encoder, config)"
      ]
    },
    {
      "cell_type": "code",
      "execution_count": 127,
      "metadata": {
        "id": "63aBuF1_Rb6x"
      },
      "outputs": [],
      "source": [
        "import torch.optim as optim\n",
        "from tensorboardX import SummaryWriter\n",
        "import os\n",
        "\n",
        "def train(config):\n",
        "    torch.cuda.empty_cache()\n",
        "    device = torch.device('cuda' if torch.cuda.is_available() else 'cpu')\n",
        "    print(f'Using device {device}')\n",
        "\n",
        "    writer = SummaryWriter()\n",
        "\n",
        "    # input_list = dataframe['description'].tolist()\n",
        "    # label_list = [[label] for label in dataframe['genre']]\n",
        "    # label_encoder = OneHotEncoder(sparse=False)\n",
        "\n",
        "    # dataloader, meta_data = prepare_data(input_list, label_list, label_encoder, config)\n",
        "\n",
        "    print(config)\n",
        "    model = build_model(\n",
        "        meta_data['vocab_size'],\n",
        "        config['seq_len'],\n",
        "        config['num_classes'],\n",
        "        config['embed_dim']\n",
        "        )\n",
        "\n",
        "    model = model.to(device)\n",
        "\n",
        "    print(f\"Model has {sum(p.numel() for p in model.parameters())}\")\n",
        "\n",
        "    checkpoint_dir = PROJECT_DIR+config['model_folder']\n",
        "    # os.makedirs(checkpoint_dir, exist_ok=True)\n",
        "\n",
        "    should_preload = config['preload']\n",
        "    if should_preload:\n",
        "        checkpoint_filename = get_weights_path(config, config['preload_epoch'])\n",
        "        checkpoint = torch.load(checkpoint_dir+\"/\"+checkpoint_filename)\n",
        "        model.load_state_dict(checkpoint['model_state_dict'])\n",
        "        print(\"Loaded model weights!\")\n",
        "\n",
        "    NUM_EPOCHS = config['epochs']\n",
        "    lr = config['learning_rate']\n",
        "    optimizer = optim.Adam(model.parameters(), lr=lr)\n",
        "    criterion = nn.CrossEntropyLoss()\n",
        "\n",
        "    for epoch in range(NUM_EPOCHS):\n",
        "        model.train()\n",
        "\n",
        "        total_loss = 0.0\n",
        "        total_correct = 0\n",
        "\n",
        "        for batch in dataloader:\n",
        "            input_ids = batch[\"input_ids\"]\n",
        "            attention_mask = batch[\"attention_mask\"]\n",
        "            labels = batch[\"labels\"]\n",
        "\n",
        "            input_ids = input_ids.to(device)\n",
        "            attention_mask = attention_mask.to(device)\n",
        "            labels = labels.to(device)\n",
        "\n",
        "            label_indices = torch.argmax(labels, dim=1)\n",
        "\n",
        "            outputs = model(input_ids, attention_mask)\n",
        "\n",
        "            loss = criterion(outputs, label_indices)\n",
        "\n",
        "            optimizer.zero_grad()\n",
        "            loss.backward()\n",
        "            optimizer.step()\n",
        "\n",
        "            _, predicted = torch.max(outputs, 1)\n",
        "\n",
        "            total_correct += (predicted == label_indices).sum().item()\n",
        "\n",
        "            total_loss += loss.item()\n",
        "\n",
        "        average_loss = total_loss / len(dataloader)\n",
        "        accuracy = total_correct / len(dataloader.dataset)\n",
        "\n",
        "        print(f\"Epoch [{epoch + 1}/{NUM_EPOCHS}]\")\n",
        "        print(f\"Loss: {average_loss:.4f}, Accuracy: {accuracy * 100:.2f}%\")\n",
        "\n",
        "        checkpoint_filename = os.path.join(checkpoint_dir, f'model_epoch{epoch+1}.pth')\n",
        "        torch.save({\n",
        "            'epoch': epoch,\n",
        "            'model_state_dict': model.state_dict(),\n",
        "            'optimizer_state_dict': optimizer.state_dict(),\n",
        "            'loss': loss.item(),\n",
        "        }, checkpoint_filename)\n",
        "\n",
        "        writer.add_scalar(\"Training Loss\", average_loss, epoch)\n",
        "        writer.add_scalar(\"Training Accuracy\", accuracy, epoch)\n",
        "\n",
        "    writer.close()"
      ]
    },
    {
      "cell_type": "code",
      "execution_count": 128,
      "metadata": {
        "colab": {
          "base_uri": "https://localhost:8080/",
          "height": 684
        },
        "id": "M52VoTRRRb6y",
        "outputId": "65c325ad-f09c-4e78-ef2f-622de8f08d73"
      },
      "outputs": [
        {
          "name": "stdout",
          "output_type": "stream",
          "text": [
            "Using device cuda\n",
            "{'batch_size': 128, 'learning_rate': 0.0002, 'seq_len': 512, 'epochs': 10, 'num_classes': 10, 'embed_dim': 512, 'tokenizer': 'bert_tokenizer', 'model_folder': 'weights', 'model_basename': 'model_', 'preload': 'True', 'preload_epoch': 10}\n",
            "Model has 34797092\n",
            "Loaded model weights!\n",
            "Epoch [1/10]\n",
            "Loss: 1.8838, Accuracy: 57.58%\n",
            "Epoch [2/10]\n",
            "Loss: 1.8800, Accuracy: 57.98%\n",
            "Epoch [3/10]\n",
            "Loss: 1.8760, Accuracy: 58.37%\n",
            "Epoch [4/10]\n",
            "Loss: 1.8716, Accuracy: 58.82%\n",
            "Epoch [5/10]\n",
            "Loss: 1.8683, Accuracy: 59.21%\n"
          ]
        },
        {
          "ename": "KeyboardInterrupt",
          "evalue": "ignored",
          "output_type": "error",
          "traceback": [
            "\u001b[0;31m---------------------------------------------------------------------------\u001b[0m",
            "\u001b[0;31mKeyboardInterrupt\u001b[0m                         Traceback (most recent call last)",
            "\u001b[0;32m<ipython-input-128-0facd7dccfa7>\u001b[0m in \u001b[0;36m<cell line: 1>\u001b[0;34m()\u001b[0m\n\u001b[0;32m----> 1\u001b[0;31m \u001b[0mtrain\u001b[0m\u001b[0;34m(\u001b[0m\u001b[0mconfig\u001b[0m\u001b[0;34m=\u001b[0m\u001b[0mconfig\u001b[0m\u001b[0;34m)\u001b[0m\u001b[0;34m\u001b[0m\u001b[0;34m\u001b[0m\u001b[0m\n\u001b[0m",
            "\u001b[0;32m<ipython-input-127-871d752f5337>\u001b[0m in \u001b[0;36mtrain\u001b[0;34m(config)\u001b[0m\n\u001b[1;32m     65\u001b[0m \u001b[0;34m\u001b[0m\u001b[0m\n\u001b[1;32m     66\u001b[0m             \u001b[0moptimizer\u001b[0m\u001b[0;34m.\u001b[0m\u001b[0mzero_grad\u001b[0m\u001b[0;34m(\u001b[0m\u001b[0;34m)\u001b[0m\u001b[0;34m\u001b[0m\u001b[0;34m\u001b[0m\u001b[0m\n\u001b[0;32m---> 67\u001b[0;31m             \u001b[0mloss\u001b[0m\u001b[0;34m.\u001b[0m\u001b[0mbackward\u001b[0m\u001b[0;34m(\u001b[0m\u001b[0;34m)\u001b[0m\u001b[0;34m\u001b[0m\u001b[0;34m\u001b[0m\u001b[0m\n\u001b[0m\u001b[1;32m     68\u001b[0m             \u001b[0moptimizer\u001b[0m\u001b[0;34m.\u001b[0m\u001b[0mstep\u001b[0m\u001b[0;34m(\u001b[0m\u001b[0;34m)\u001b[0m\u001b[0;34m\u001b[0m\u001b[0;34m\u001b[0m\u001b[0m\n\u001b[1;32m     69\u001b[0m \u001b[0;34m\u001b[0m\u001b[0m\n",
            "\u001b[0;32m/usr/local/lib/python3.10/dist-packages/torch/_tensor.py\u001b[0m in \u001b[0;36mbackward\u001b[0;34m(self, gradient, retain_graph, create_graph, inputs)\u001b[0m\n\u001b[1;32m    485\u001b[0m                 \u001b[0minputs\u001b[0m\u001b[0;34m=\u001b[0m\u001b[0minputs\u001b[0m\u001b[0;34m,\u001b[0m\u001b[0;34m\u001b[0m\u001b[0;34m\u001b[0m\u001b[0m\n\u001b[1;32m    486\u001b[0m             )\n\u001b[0;32m--> 487\u001b[0;31m         torch.autograd.backward(\n\u001b[0m\u001b[1;32m    488\u001b[0m             \u001b[0mself\u001b[0m\u001b[0;34m,\u001b[0m \u001b[0mgradient\u001b[0m\u001b[0;34m,\u001b[0m \u001b[0mretain_graph\u001b[0m\u001b[0;34m,\u001b[0m \u001b[0mcreate_graph\u001b[0m\u001b[0;34m,\u001b[0m \u001b[0minputs\u001b[0m\u001b[0;34m=\u001b[0m\u001b[0minputs\u001b[0m\u001b[0;34m\u001b[0m\u001b[0;34m\u001b[0m\u001b[0m\n\u001b[1;32m    489\u001b[0m         )\n",
            "\u001b[0;32m/usr/local/lib/python3.10/dist-packages/torch/autograd/__init__.py\u001b[0m in \u001b[0;36mbackward\u001b[0;34m(tensors, grad_tensors, retain_graph, create_graph, grad_variables, inputs)\u001b[0m\n\u001b[1;32m    198\u001b[0m     \u001b[0;31m# some Python versions print out the first line of a multi-line function\u001b[0m\u001b[0;34m\u001b[0m\u001b[0;34m\u001b[0m\u001b[0m\n\u001b[1;32m    199\u001b[0m     \u001b[0;31m# calls in the traceback and some print out the last line\u001b[0m\u001b[0;34m\u001b[0m\u001b[0;34m\u001b[0m\u001b[0m\n\u001b[0;32m--> 200\u001b[0;31m     Variable._execution_engine.run_backward(  # Calls into the C++ engine to run the backward pass\n\u001b[0m\u001b[1;32m    201\u001b[0m         \u001b[0mtensors\u001b[0m\u001b[0;34m,\u001b[0m \u001b[0mgrad_tensors_\u001b[0m\u001b[0;34m,\u001b[0m \u001b[0mretain_graph\u001b[0m\u001b[0;34m,\u001b[0m \u001b[0mcreate_graph\u001b[0m\u001b[0;34m,\u001b[0m \u001b[0minputs\u001b[0m\u001b[0;34m,\u001b[0m\u001b[0;34m\u001b[0m\u001b[0;34m\u001b[0m\u001b[0m\n\u001b[1;32m    202\u001b[0m         allow_unreachable=True, accumulate_grad=True)  # Calls into the C++ engine to run the backward pass\n",
            "\u001b[0;31mKeyboardInterrupt\u001b[0m: "
          ]
        }
      ],
      "source": [
        "train(config=config)"
      ]
    }
  ],
  "metadata": {
    "accelerator": "GPU",
    "colab": {
      "gpuType": "A100",
      "machine_shape": "hm",
      "provenance": []
    },
    "kernelspec": {
      "display_name": "Python 3",
      "name": "python3"
    },
    "language_info": {
      "codemirror_mode": {
        "name": "ipython",
        "version": 3
      },
      "file_extension": ".py",
      "mimetype": "text/x-python",
      "name": "python",
      "nbconvert_exporter": "python",
      "pygments_lexer": "ipython3",
      "version": "3.10.12"
    },
    "orig_nbformat": 4
  },
  "nbformat": 4,
  "nbformat_minor": 0
}
