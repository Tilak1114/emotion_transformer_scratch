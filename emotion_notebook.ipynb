{
  "cells": [
    {
      "cell_type": "code",
      "execution_count": 13,
      "metadata": {
        "colab": {
          "base_uri": "https://localhost:8080/"
        },
        "id": "m2SFmtoHW8g1",
        "outputId": "c03a1a29-28ac-4ba5-c72c-5b61c20cfd6e"
      },
      "outputs": [
        {
          "name": "stdout",
          "output_type": "stream",
          "text": [
            "Looking in indexes: https://pypi.org/simple, https://pypi.ngc.nvidia.com\n",
            "Requirement already satisfied: transformers in /Users/tilaksharma/opt/anaconda3/envs/DL/lib/python3.10/site-packages (4.33.3)\n",
            "Requirement already satisfied: tensorboardX in /Users/tilaksharma/opt/anaconda3/envs/DL/lib/python3.10/site-packages (2.6.2.2)\n",
            "Requirement already satisfied: datasets in /Users/tilaksharma/opt/anaconda3/envs/DL/lib/python3.10/site-packages (2.14.5)\n",
            "Requirement already satisfied: filelock in /Users/tilaksharma/opt/anaconda3/envs/DL/lib/python3.10/site-packages (from transformers) (3.12.4)\n",
            "Requirement already satisfied: huggingface-hub<1.0,>=0.15.1 in /Users/tilaksharma/opt/anaconda3/envs/DL/lib/python3.10/site-packages (from transformers) (0.17.3)\n",
            "Requirement already satisfied: numpy>=1.17 in /Users/tilaksharma/opt/anaconda3/envs/DL/lib/python3.10/site-packages (from transformers) (1.26.0)\n",
            "Requirement already satisfied: packaging>=20.0 in /Users/tilaksharma/opt/anaconda3/envs/DL/lib/python3.10/site-packages (from transformers) (23.1)\n",
            "Requirement already satisfied: pyyaml>=5.1 in /Users/tilaksharma/opt/anaconda3/envs/DL/lib/python3.10/site-packages (from transformers) (6.0.1)\n",
            "Requirement already satisfied: regex!=2019.12.17 in /Users/tilaksharma/opt/anaconda3/envs/DL/lib/python3.10/site-packages (from transformers) (2023.8.8)\n",
            "Requirement already satisfied: requests in /Users/tilaksharma/opt/anaconda3/envs/DL/lib/python3.10/site-packages (from transformers) (2.31.0)\n",
            "Requirement already satisfied: tokenizers!=0.11.3,<0.14,>=0.11.1 in /Users/tilaksharma/opt/anaconda3/envs/DL/lib/python3.10/site-packages (from transformers) (0.13.3)\n",
            "Requirement already satisfied: safetensors>=0.3.1 in /Users/tilaksharma/opt/anaconda3/envs/DL/lib/python3.10/site-packages (from transformers) (0.3.3)\n",
            "Requirement already satisfied: tqdm>=4.27 in /Users/tilaksharma/opt/anaconda3/envs/DL/lib/python3.10/site-packages (from transformers) (4.66.1)\n",
            "Requirement already satisfied: protobuf>=3.20 in /Users/tilaksharma/opt/anaconda3/envs/DL/lib/python3.10/site-packages (from tensorboardX) (4.24.4)\n",
            "Requirement already satisfied: pyarrow>=8.0.0 in /Users/tilaksharma/opt/anaconda3/envs/DL/lib/python3.10/site-packages (from datasets) (13.0.0)\n",
            "Requirement already satisfied: dill<0.3.8,>=0.3.0 in /Users/tilaksharma/opt/anaconda3/envs/DL/lib/python3.10/site-packages (from datasets) (0.3.7)\n",
            "Requirement already satisfied: pandas in /Users/tilaksharma/opt/anaconda3/envs/DL/lib/python3.10/site-packages (from datasets) (2.1.1)\n",
            "Requirement already satisfied: xxhash in /Users/tilaksharma/opt/anaconda3/envs/DL/lib/python3.10/site-packages (from datasets) (3.4.1)\n",
            "Requirement already satisfied: multiprocess in /Users/tilaksharma/opt/anaconda3/envs/DL/lib/python3.10/site-packages (from datasets) (0.70.15)\n",
            "Requirement already satisfied: fsspec[http]<2023.9.0,>=2023.1.0 in /Users/tilaksharma/opt/anaconda3/envs/DL/lib/python3.10/site-packages (from datasets) (2023.6.0)\n",
            "Requirement already satisfied: aiohttp in /Users/tilaksharma/opt/anaconda3/envs/DL/lib/python3.10/site-packages (from datasets) (3.8.6)\n",
            "Requirement already satisfied: attrs>=17.3.0 in /Users/tilaksharma/opt/anaconda3/envs/DL/lib/python3.10/site-packages (from aiohttp->datasets) (23.1.0)\n",
            "Requirement already satisfied: charset-normalizer<4.0,>=2.0 in /Users/tilaksharma/opt/anaconda3/envs/DL/lib/python3.10/site-packages (from aiohttp->datasets) (3.2.0)\n",
            "Requirement already satisfied: multidict<7.0,>=4.5 in /Users/tilaksharma/opt/anaconda3/envs/DL/lib/python3.10/site-packages (from aiohttp->datasets) (6.0.4)\n",
            "Requirement already satisfied: async-timeout<5.0,>=4.0.0a3 in /Users/tilaksharma/opt/anaconda3/envs/DL/lib/python3.10/site-packages (from aiohttp->datasets) (4.0.3)\n",
            "Requirement already satisfied: yarl<2.0,>=1.0 in /Users/tilaksharma/opt/anaconda3/envs/DL/lib/python3.10/site-packages (from aiohttp->datasets) (1.9.2)\n",
            "Requirement already satisfied: frozenlist>=1.1.1 in /Users/tilaksharma/opt/anaconda3/envs/DL/lib/python3.10/site-packages (from aiohttp->datasets) (1.4.0)\n",
            "Requirement already satisfied: aiosignal>=1.1.2 in /Users/tilaksharma/opt/anaconda3/envs/DL/lib/python3.10/site-packages (from aiohttp->datasets) (1.3.1)\n",
            "Requirement already satisfied: typing-extensions>=3.7.4.3 in /Users/tilaksharma/opt/anaconda3/envs/DL/lib/python3.10/site-packages (from huggingface-hub<1.0,>=0.15.1->transformers) (4.8.0)\n",
            "Requirement already satisfied: idna<4,>=2.5 in /Users/tilaksharma/opt/anaconda3/envs/DL/lib/python3.10/site-packages (from requests->transformers) (3.4)\n",
            "Requirement already satisfied: urllib3<3,>=1.21.1 in /Users/tilaksharma/opt/anaconda3/envs/DL/lib/python3.10/site-packages (from requests->transformers) (2.0.5)\n",
            "Requirement already satisfied: certifi>=2017.4.17 in /Users/tilaksharma/opt/anaconda3/envs/DL/lib/python3.10/site-packages (from requests->transformers) (2023.7.22)\n",
            "Requirement already satisfied: python-dateutil>=2.8.2 in /Users/tilaksharma/opt/anaconda3/envs/DL/lib/python3.10/site-packages (from pandas->datasets) (2.8.2)\n",
            "Requirement already satisfied: pytz>=2020.1 in /Users/tilaksharma/opt/anaconda3/envs/DL/lib/python3.10/site-packages (from pandas->datasets) (2023.3.post1)\n",
            "Requirement already satisfied: tzdata>=2022.1 in /Users/tilaksharma/opt/anaconda3/envs/DL/lib/python3.10/site-packages (from pandas->datasets) (2023.3)\n",
            "Requirement already satisfied: six>=1.5 in /Users/tilaksharma/opt/anaconda3/envs/DL/lib/python3.10/site-packages (from python-dateutil>=2.8.2->pandas->datasets) (1.16.0)\n"
          ]
        }
      ],
      "source": [
        "! pip install transformers tensorboardX datasets"
      ]
    },
    {
      "cell_type": "code",
      "execution_count": 14,
      "metadata": {
        "colab": {
          "base_uri": "https://localhost:8080/"
        },
        "id": "4suEls1eVidQ",
        "outputId": "8adc15c9-a259-4b01-b80f-af13064cf72f"
      },
      "outputs": [],
      "source": [
        "# from google.colab import drive\n",
        "# drive.mount('/content/drive')"
      ]
    },
    {
      "cell_type": "code",
      "execution_count": 15,
      "metadata": {
        "id": "oPVZjJ6wV58-"
      },
      "outputs": [],
      "source": [
        "PROJECT_DIR = './'"
      ]
    },
    {
      "cell_type": "code",
      "execution_count": 16,
      "metadata": {
        "id": "-CPJx030Rb6o"
      },
      "outputs": [],
      "source": [
        "import torch\n",
        "import torch.nn as nn\n",
        "import pandas as pd\n",
        "import matplotlib.pyplot as plt\n",
        "import seaborn as sns"
      ]
    },
    {
      "cell_type": "code",
      "execution_count": 17,
      "metadata": {
        "id": "lXPqVVj-Rb6q"
      },
      "outputs": [],
      "source": [
        "from datasets import load_dataset\n",
        "emotions = load_dataset(\"emotion\")"
      ]
    },
    {
      "cell_type": "code",
      "execution_count": 18,
      "metadata": {
        "id": "CkfUES6D42Gx"
      },
      "outputs": [],
      "source": [
        "emotions.set_format(type=\"pandas\")\n",
        "df = emotions[\"train\"][:]"
      ]
    },
    {
      "cell_type": "code",
      "execution_count": 19,
      "metadata": {
        "colab": {
          "base_uri": "https://localhost:8080/",
          "height": 206
        },
        "id": "Vj1KGipU42Gx",
        "outputId": "8e66a7a6-779b-402b-c7d5-b16fd30adbbb"
      },
      "outputs": [
        {
          "data": {
            "text/html": [
              "<div>\n",
              "<style scoped>\n",
              "    .dataframe tbody tr th:only-of-type {\n",
              "        vertical-align: middle;\n",
              "    }\n",
              "\n",
              "    .dataframe tbody tr th {\n",
              "        vertical-align: top;\n",
              "    }\n",
              "\n",
              "    .dataframe thead th {\n",
              "        text-align: right;\n",
              "    }\n",
              "</style>\n",
              "<table border=\"1\" class=\"dataframe\">\n",
              "  <thead>\n",
              "    <tr style=\"text-align: right;\">\n",
              "      <th></th>\n",
              "      <th>text</th>\n",
              "      <th>label</th>\n",
              "    </tr>\n",
              "  </thead>\n",
              "  <tbody>\n",
              "    <tr>\n",
              "      <th>0</th>\n",
              "      <td>i didnt feel humiliated</td>\n",
              "      <td>0</td>\n",
              "    </tr>\n",
              "    <tr>\n",
              "      <th>1</th>\n",
              "      <td>i can go from feeling so hopeless to so damned...</td>\n",
              "      <td>0</td>\n",
              "    </tr>\n",
              "    <tr>\n",
              "      <th>2</th>\n",
              "      <td>im grabbing a minute to post i feel greedy wrong</td>\n",
              "      <td>3</td>\n",
              "    </tr>\n",
              "    <tr>\n",
              "      <th>3</th>\n",
              "      <td>i am ever feeling nostalgic about the fireplac...</td>\n",
              "      <td>2</td>\n",
              "    </tr>\n",
              "    <tr>\n",
              "      <th>4</th>\n",
              "      <td>i am feeling grouchy</td>\n",
              "      <td>3</td>\n",
              "    </tr>\n",
              "  </tbody>\n",
              "</table>\n",
              "</div>"
            ],
            "text/plain": [
              "                                                text  label\n",
              "0                            i didnt feel humiliated      0\n",
              "1  i can go from feeling so hopeless to so damned...      0\n",
              "2   im grabbing a minute to post i feel greedy wrong      3\n",
              "3  i am ever feeling nostalgic about the fireplac...      2\n",
              "4                               i am feeling grouchy      3"
            ]
          },
          "execution_count": 19,
          "metadata": {},
          "output_type": "execute_result"
        }
      ],
      "source": [
        "df.head()"
      ]
    },
    {
      "cell_type": "code",
      "execution_count": 20,
      "metadata": {
        "id": "lNb6M4Ls42Gx"
      },
      "outputs": [],
      "source": [
        "df['label_name'] = df['label'].apply(lambda x: emotions[\"train\"].features[\"label\"].int2str(x))"
      ]
    },
    {
      "cell_type": "code",
      "execution_count": 21,
      "metadata": {
        "colab": {
          "base_uri": "https://localhost:8080/",
          "height": 206
        },
        "id": "6ZVZ5Sta42Gy",
        "outputId": "4399d21b-40ca-4de5-fb9b-2657a3ab0a3e"
      },
      "outputs": [
        {
          "data": {
            "text/html": [
              "<div>\n",
              "<style scoped>\n",
              "    .dataframe tbody tr th:only-of-type {\n",
              "        vertical-align: middle;\n",
              "    }\n",
              "\n",
              "    .dataframe tbody tr th {\n",
              "        vertical-align: top;\n",
              "    }\n",
              "\n",
              "    .dataframe thead th {\n",
              "        text-align: right;\n",
              "    }\n",
              "</style>\n",
              "<table border=\"1\" class=\"dataframe\">\n",
              "  <thead>\n",
              "    <tr style=\"text-align: right;\">\n",
              "      <th></th>\n",
              "      <th>text</th>\n",
              "      <th>label</th>\n",
              "      <th>label_name</th>\n",
              "    </tr>\n",
              "  </thead>\n",
              "  <tbody>\n",
              "    <tr>\n",
              "      <th>0</th>\n",
              "      <td>i didnt feel humiliated</td>\n",
              "      <td>0</td>\n",
              "      <td>sadness</td>\n",
              "    </tr>\n",
              "    <tr>\n",
              "      <th>1</th>\n",
              "      <td>i can go from feeling so hopeless to so damned...</td>\n",
              "      <td>0</td>\n",
              "      <td>sadness</td>\n",
              "    </tr>\n",
              "    <tr>\n",
              "      <th>2</th>\n",
              "      <td>im grabbing a minute to post i feel greedy wrong</td>\n",
              "      <td>3</td>\n",
              "      <td>anger</td>\n",
              "    </tr>\n",
              "    <tr>\n",
              "      <th>3</th>\n",
              "      <td>i am ever feeling nostalgic about the fireplac...</td>\n",
              "      <td>2</td>\n",
              "      <td>love</td>\n",
              "    </tr>\n",
              "    <tr>\n",
              "      <th>4</th>\n",
              "      <td>i am feeling grouchy</td>\n",
              "      <td>3</td>\n",
              "      <td>anger</td>\n",
              "    </tr>\n",
              "  </tbody>\n",
              "</table>\n",
              "</div>"
            ],
            "text/plain": [
              "                                                text  label label_name\n",
              "0                            i didnt feel humiliated      0    sadness\n",
              "1  i can go from feeling so hopeless to so damned...      0    sadness\n",
              "2   im grabbing a minute to post i feel greedy wrong      3      anger\n",
              "3  i am ever feeling nostalgic about the fireplac...      2       love\n",
              "4                               i am feeling grouchy      3      anger"
            ]
          },
          "execution_count": 21,
          "metadata": {},
          "output_type": "execute_result"
        }
      ],
      "source": [
        "df.head()"
      ]
    },
    {
      "cell_type": "markdown",
      "metadata": {
        "id": "vI_zYUJPRb6r"
      },
      "source": [
        "### Exploratory Data Analysis"
      ]
    },
    {
      "cell_type": "code",
      "execution_count": 22,
      "metadata": {
        "colab": {
          "base_uri": "https://localhost:8080/",
          "height": 419
        },
        "id": "B14phoXCRb6s",
        "outputId": "cc76df53-7143-4d1e-95c6-c1ee2708ac34"
      },
      "outputs": [
        {
          "name": "stderr",
          "output_type": "stream",
          "text": [
            "/var/folders/2l/l_lnhh8n4y3c6tw0v92pbxf80000gn/T/ipykernel_20900/1115163482.py:3: FutureWarning: \n",
            "\n",
            "Passing `palette` without assigning `hue` is deprecated and will be removed in v0.14.0. Assign the `x` variable to `hue` and set `legend=False` for the same effect.\n",
            "\n",
            "  sns.countplot(x='label_name', data=df, palette='crest')\n"
          ]
        },
        {
          "data": {
            "image/png": "[encoded data removed]",
            "text/plain": [
              "<Figure size 600x400 with 1 Axes>"
            ]
          },
          "metadata": {},
          "output_type": "display_data"
        }
      ],
      "source": [
        "sns.set(style=\"darkgrid\")\n",
        "plt.figure(figsize=(6, 4))\n",
        "sns.countplot(x='label_name', data=df, palette='crest')\n",
        "plt.title('Distribution of Genres')\n",
        "plt.xlabel('Genres')\n",
        "plt.ylabel('Count')\n",
        "plt.show()"
      ]
    },
    {
      "cell_type": "code",
      "execution_count": 23,
      "metadata": {
        "colab": {
          "base_uri": "https://localhost:8080/",
          "height": 447
        },
        "id": "J7xnVGp742Gz",
        "outputId": "2a3b8533-d57a-4c35-ba98-b737b3054305"
      },
      "outputs": [
        {
          "data": {
            "image/png": "[encoded data removed]",
            "text/plain": [
              "<Figure size 640x480 with 1 Axes>"
            ]
          },
          "metadata": {},
          "output_type": "display_data"
        }
      ],
      "source": [
        "df['Words Per Tweet'] = df['text'].str.split().apply(lambda x: len(x))\n",
        "df.boxplot(\"Words Per Tweet\", by=\"label_name\", grid=False,\n",
        "              showfliers=False, color=\"black\")\n",
        "plt.suptitle(\"\")\n",
        "plt.xlabel(\"\")\n",
        "plt.show()"
      ]
    },
    {
      "cell_type": "code",
      "execution_count": 24,
      "metadata": {
        "colab": {
          "base_uri": "https://localhost:8080/",
          "height": 206
        },
        "id": "VIVynX4x42G0",
        "outputId": "109be655-1b64-4ee0-ae3e-247991c6dde0"
      },
      "outputs": [
        {
          "data": {
            "text/html": [
              "<div>\n",
              "<style scoped>\n",
              "    .dataframe tbody tr th:only-of-type {\n",
              "        vertical-align: middle;\n",
              "    }\n",
              "\n",
              "    .dataframe tbody tr th {\n",
              "        vertical-align: top;\n",
              "    }\n",
              "\n",
              "    .dataframe thead th {\n",
              "        text-align: right;\n",
              "    }\n",
              "</style>\n",
              "<table border=\"1\" class=\"dataframe\">\n",
              "  <thead>\n",
              "    <tr style=\"text-align: right;\">\n",
              "      <th></th>\n",
              "      <th>text</th>\n",
              "      <th>label</th>\n",
              "      <th>label_name</th>\n",
              "      <th>Words Per Tweet</th>\n",
              "    </tr>\n",
              "  </thead>\n",
              "  <tbody>\n",
              "    <tr>\n",
              "      <th>0</th>\n",
              "      <td>i didnt feel humiliated</td>\n",
              "      <td>0</td>\n",
              "      <td>sadness</td>\n",
              "      <td>4</td>\n",
              "    </tr>\n",
              "    <tr>\n",
              "      <th>1</th>\n",
              "      <td>i can go from feeling so hopeless to so damned...</td>\n",
              "      <td>0</td>\n",
              "      <td>sadness</td>\n",
              "      <td>21</td>\n",
              "    </tr>\n",
              "    <tr>\n",
              "      <th>2</th>\n",
              "      <td>im grabbing a minute to post i feel greedy wrong</td>\n",
              "      <td>3</td>\n",
              "      <td>anger</td>\n",
              "      <td>10</td>\n",
              "    </tr>\n",
              "    <tr>\n",
              "      <th>3</th>\n",
              "      <td>i am ever feeling nostalgic about the fireplac...</td>\n",
              "      <td>2</td>\n",
              "      <td>love</td>\n",
              "      <td>18</td>\n",
              "    </tr>\n",
              "    <tr>\n",
              "      <th>4</th>\n",
              "      <td>i am feeling grouchy</td>\n",
              "      <td>3</td>\n",
              "      <td>anger</td>\n",
              "      <td>4</td>\n",
              "    </tr>\n",
              "  </tbody>\n",
              "</table>\n",
              "</div>"
            ],
            "text/plain": [
              "                                                text  label label_name  \\\n",
              "0                            i didnt feel humiliated      0    sadness   \n",
              "1  i can go from feeling so hopeless to so damned...      0    sadness   \n",
              "2   im grabbing a minute to post i feel greedy wrong      3      anger   \n",
              "3  i am ever feeling nostalgic about the fireplac...      2       love   \n",
              "4                               i am feeling grouchy      3      anger   \n",
              "\n",
              "   Words Per Tweet  \n",
              "0                4  \n",
              "1               21  \n",
              "2               10  \n",
              "3               18  \n",
              "4                4  "
            ]
          },
          "execution_count": 24,
          "metadata": {},
          "output_type": "execute_result"
        }
      ],
      "source": [
        "df.head()"
      ]
    },
    {
      "cell_type": "markdown",
      "metadata": {
        "id": "PNJetRL0Rb6t"
      },
      "source": [
        "## Transformer from scratch"
      ]
    },
    {
      "cell_type": "code",
      "execution_count": 25,
      "metadata": {
        "id": "pELblxtTRb6t"
      },
      "outputs": [],
      "source": [
        "import numpy as np"
      ]
    },
    {
      "cell_type": "code",
      "execution_count": 26,
      "metadata": {
        "id": "VbtWspZmRb6u"
      },
      "outputs": [],
      "source": [
        "class InputEmbedding(nn.Module):\n",
        "    def __init__(self, model_dim, vocab_size):\n",
        "        super().__init__()\n",
        "        self.model_dim = model_dim\n",
        "        self.vocab_size = vocab_size\n",
        "        self.embedding = nn.Embedding(vocab_size, model_dim)\n",
        "\n",
        "    def forward(self, x):\n",
        "        return self.embedding(x) * np.sqrt(self.model_dim)"
      ]
    },
    {
      "cell_type": "code",
      "execution_count": 27,
      "metadata": {
        "id": "fsjK1mA9Rb6u"
      },
      "outputs": [],
      "source": [
        "class PositionalEmbedding(nn.Module):\n",
        "    def __init__(self, model_dim, seq_len, dropout):\n",
        "        super().__init__()\n",
        "        self.model_dim = model_dim\n",
        "        self.seq_len = seq_len\n",
        "        self.dropout = nn.Dropout(dropout)\n",
        "\n",
        "        pos_embed = torch.zeros(seq_len, model_dim)\n",
        "        positions = torch.arange(0, seq_len, dtype=torch.float).unsqueeze(1)\n",
        "        denom = torch.exp(torch.arange(0, model_dim, 2, dtype=torch.float)*(np.log(10000.0)/model_dim))\n",
        "\n",
        "        pos_embed[:, 0::2] = torch.sin(positions * denom)\n",
        "        pos_embed[:, 1::2] = torch.cos(positions * denom)\n",
        "\n",
        "        pos_embed = pos_embed.unsqueeze(0) # (1, seq_len, model_dim)\n",
        "\n",
        "        self.register_buffer('pos_embed', pos_embed)\n",
        "\n",
        "    def forward(self, x):\n",
        "        x = x + (self.pos_embed[:, :x.shape[1], :]).requires_grad_(False)\n",
        "        return self.dropout(x)"
      ]
    },
    {
      "cell_type": "code",
      "execution_count": 28,
      "metadata": {
        "id": "nwJx9QrxRb6u"
      },
      "outputs": [],
      "source": [
        "class LayerNormalization(nn.Module):\n",
        "    def __init__(self, eps = 10**-6):\n",
        "        super().__init__()\n",
        "        self.eps = eps\n",
        "        self.gamma = nn.Parameter(torch.ones(1)) # Multiplicative\n",
        "        self.beta =  nn.Parameter(torch.zeros(1)) # Additive\n",
        "\n",
        "    def forward(self, x):\n",
        "        # x is (batch_size, seq_len, embed_dim)\n",
        "        mean = x.mean(dim = -1, keepdim = True)\n",
        "        std = x.std(dim = -1, keepdim = True)\n",
        "        return self.gamma * (x-mean)/(std+self.eps) + self.beta"
      ]
    },
    {
      "cell_type": "code",
      "execution_count": 29,
      "metadata": {
        "id": "SWYfv9WJRb6u"
      },
      "outputs": [],
      "source": [
        "class FeedForward(nn.Module):\n",
        "    def __init__(self, model_dim, out_dim, dropout):\n",
        "        super().__init__()\n",
        "        self.fc1 = nn.Linear(model_dim, out_dim)\n",
        "        self.dropout = nn.Dropout(dropout)\n",
        "        self.fc2 = nn.Linear(out_dim, model_dim)\n",
        "\n",
        "    def forward(self, x):\n",
        "        # (batch, seq_len, embed_dim) -> (batch, seq_len, out_dim) -> (batch, seq_len, embed_dim)\n",
        "        x = self.fc1(x)\n",
        "        x = self.dropout(x)\n",
        "        x = self.fc2(x)\n",
        "        return x"
      ]
    },
    {
      "cell_type": "code",
      "execution_count": 30,
      "metadata": {
        "id": "LB8tKJw9Rb6v"
      },
      "outputs": [],
      "source": [
        "class MultiHeadAttention(nn.Module):\n",
        "    def __init__(self, model_dim, num_heads, dropout):\n",
        "        super().__init__()\n",
        "        self.model_dim = model_dim\n",
        "        self.heads = num_heads\n",
        "        assert model_dim % num_heads == 0, \"Embedding dimension is not divisible by number of heads\"\n",
        "\n",
        "        self.head_dim = model_dim//num_heads\n",
        "\n",
        "        self.w_q = nn.Linear(model_dim, model_dim)\n",
        "        self.w_k = nn.Linear(model_dim, model_dim)\n",
        "        self.w_v = nn.Linear(model_dim, model_dim)\n",
        "\n",
        "        self.w_o = nn.Linear(model_dim, model_dim)\n",
        "        self.dropout = nn.Dropout(dropout)\n",
        "\n",
        "    @staticmethod\n",
        "    def attention(query, key, value, mask, dropout: nn.Dropout):\n",
        "        head_dim = query.shape[-1]\n",
        "\n",
        "        # Matrix multiplication of\n",
        "        # (batch, num_heads, seq_len, head_dim) x (batch, num_heads, head_dim, seq_len) --> (batch, num_heads, seq_len, seq_len)\n",
        "\n",
        "        attention_scores = (query @ key.transpose(-2, -1))/np.sqrt(head_dim)\n",
        "\n",
        "        if mask is not None:\n",
        "            expanded_mask = mask.unsqueeze(1).unsqueeze(2).expand_as(attention_scores)\n",
        "            attention_scores.masked_fill_(expanded_mask == 0, -1e9)\n",
        "\n",
        "        attention_scores = attention_scores.softmax(dim = -1) #(batch, num_heads, seq_len, seq_len)\n",
        "\n",
        "        if dropout is not None:\n",
        "            attention_scores = dropout(attention_scores)\n",
        "\n",
        "        return (attention_scores @ value), attention_scores\n",
        "\n",
        "    def forward(self, q, k, v, mask):\n",
        "        # (batch, seq_l, embed_dim)\n",
        "        query = self.w_q(q)\n",
        "        key = self.w_k(k)\n",
        "        value = self.w_v(v)\n",
        "\n",
        "        # (batch, seq_len, embed_dim) -> (batch, seq_len, num_heads, head_dim) -> (batch, num_heads, seq_len, head_dim)\n",
        "        query = query.view(query.shape[0], query.shape[1], self.heads, self.head_dim).transpose(1, 2)\n",
        "        key = key.view(key.shape[0], key.shape[1], self.heads, self.head_dim).transpose(1, 2)\n",
        "        value = value.view(value.shape[0], value.shape[1], self.heads, self.head_dim).transpose(1, 2)\n",
        "\n",
        "        x, self.attention_scores = MultiHeadAttention.attention(query, key, value, mask, self.dropout)\n",
        "\n",
        "        # (batch, num_heads, seq_len, head_dim) -> (batch, seq_len, num_heads, head_dim) -> (batch, seq_len, embed_dim)\n",
        "        x = x.transpose(1, 2).contiguous().view(x.shape[0], -1, self.heads*self.head_dim)\n",
        "\n",
        "        # (batch, seq_len, embed_dim) -> (batch, seq_len, embed_dim)\n",
        "        return self.w_o(x)"
      ]
    },
    {
      "cell_type": "code",
      "execution_count": 31,
      "metadata": {
        "id": "0MxnJ6ruRb6v"
      },
      "outputs": [],
      "source": [
        "class ResidualConnection(nn.Module):\n",
        "    def __init__(self, dropout):\n",
        "        super().__init__()\n",
        "        self.dropout = nn.Dropout(dropout)\n",
        "        self.norm = LayerNormalization()\n",
        "\n",
        "    def forward(self, x, sublayer):\n",
        "        return x + self.dropout(sublayer(self.norm(x)))"
      ]
    },
    {
      "cell_type": "code",
      "execution_count": 32,
      "metadata": {
        "id": "nQ3xbgj3Rb6v"
      },
      "outputs": [],
      "source": [
        "class EncoderBlock(nn.Module):\n",
        "    def __init__(self, self_attention_block: MultiHeadAttention, feed_forward: FeedForward, dropout: float):\n",
        "        super().__init__()\n",
        "        self.self_attention_block = self_attention_block\n",
        "        self.feed_forward_block = feed_forward\n",
        "        self.residual_connections = nn.ModuleList([ResidualConnection(dropout) for _ in range(2)])\n",
        "\n",
        "    def forward(self, x, src_mask):\n",
        "        x = self.residual_connections[0](x, lambda x: self.self_attention_block(x, x, x, src_mask))\n",
        "        x = self.residual_connections[1](x, self.feed_forward_block)\n",
        "        return x"
      ]
    },
    {
      "cell_type": "code",
      "execution_count": 33,
      "metadata": {
        "id": "f9Uz_LKoRb6v"
      },
      "outputs": [],
      "source": [
        "class Encoder(nn.Module):\n",
        "    def __init__(self, layers: nn.ModuleList):\n",
        "        super().__init__()\n",
        "        self.layers = layers\n",
        "        self.layer_norm = LayerNormalization()\n",
        "\n",
        "    def forward(self, x, mask):\n",
        "        for layer in self.layers:\n",
        "            x = layer(x, mask)\n",
        "        return self.layer_norm(x)"
      ]
    },
    {
      "cell_type": "code",
      "execution_count": 34,
      "metadata": {
        "id": "i89kSKVBRb6v"
      },
      "outputs": [],
      "source": [
        "import torch.nn.functional as F\n",
        "\n",
        "class MultiLayerPerceptron(nn.Module):\n",
        "    def __init__(self, input_dim, hidden_dim, out_dim) -> None:\n",
        "        super().__init__()\n",
        "        self.fc1 = nn.Linear(input_dim, hidden_dim)\n",
        "        self.relu = nn.ReLU()\n",
        "        self.fc2 = nn.Linear(hidden_dim, out_dim)\n",
        "\n",
        "    def forward(self, x):\n",
        "        x = self.fc1(x)\n",
        "        x = self.relu(x)\n",
        "        x = self.fc2(x)\n",
        "        # x = F.softmax(x, dim=1)\n",
        "        return x"
      ]
    },
    {
      "cell_type": "code",
      "execution_count": 35,
      "metadata": {
        "id": "XfdaaXvZRb6w"
      },
      "outputs": [],
      "source": [
        "class Model(nn.Module):\n",
        "    def __init__(self,\n",
        "                 input_embedding: InputEmbedding,\n",
        "                 pos_embedding: PositionalEmbedding,\n",
        "                 encoder: Encoder,\n",
        "                 mlp: MultiLayerPerceptron,\n",
        "                 ):\n",
        "        super().__init__()\n",
        "        self.encoder = encoder\n",
        "        self.input_embedding = input_embedding\n",
        "        self.position_embedding = pos_embedding\n",
        "        self.mlp = mlp\n",
        "\n",
        "    def forward(self, x, attention_mask):\n",
        "        x = self.input_embedding(x)\n",
        "        x = self.position_embedding(x)\n",
        "        x = self.encoder(x, attention_mask)\n",
        "        x = self.mlp(x[:, 0])\n",
        "        return x"
      ]
    },
    {
      "cell_type": "code",
      "execution_count": 36,
      "metadata": {
        "id": "GjsUcz_LRb6w"
      },
      "outputs": [],
      "source": [
        "from transformers import BertTokenizer\n",
        "from torch.utils.data import DataLoader, Dataset\n",
        "from sklearn.preprocessing import LabelEncoder\n",
        "import json"
      ]
    },
    {
      "cell_type": "code",
      "execution_count": 37,
      "metadata": {
        "id": "oLnbSnwpRb6x"
      },
      "outputs": [],
      "source": [
        "class MyDataset(Dataset):\n",
        "    def __init__(self, tokenized_texts, encoded_labels):\n",
        "        self.tokenized_texts = tokenized_texts\n",
        "        self.encoded_labels = encoded_labels\n",
        "\n",
        "    def __len__(self):\n",
        "        return len(self.tokenized_texts[\"input_ids\"])\n",
        "\n",
        "    def __getitem__(self, idx):\n",
        "        return {\n",
        "            \"input_ids\": self.tokenized_texts[\"input_ids\"][idx],\n",
        "            \"attention_mask\": self.tokenized_texts[\"attention_mask\"][idx],\n",
        "            \"labels\": torch.tensor(self.encoded_labels[idx], dtype=torch.float32),\n",
        "        }"
      ]
    },
    {
      "cell_type": "code",
      "execution_count": 38,
      "metadata": {
        "id": "73LBKuFWRb6x"
      },
      "outputs": [],
      "source": [
        "def prepare_data(input_list, encoded_labels, config):\n",
        "\n",
        "    meta_data = {}\n",
        "\n",
        "    if config[\"tokenizer\"] == 'bert_tokenizer':\n",
        "        tokenizer = BertTokenizer.from_pretrained('bert-base-uncased')\n",
        "        meta_data['vocab_size'] = tokenizer.vocab_size\n",
        "    else:\n",
        "        raise Exception(\"Unknown Tokenizer\")\n",
        "\n",
        "    tokenized_texts = tokenizer(input_list, padding='max_length', truncation=True,\n",
        "                                max_length=config[\"seq_len\"], return_tensors='pt',\n",
        "                                return_attention_mask='True')\n",
        "\n",
        "    dataset = MyDataset(tokenized_texts, encoded_labels)\n",
        "    dataloader = DataLoader(dataset, batch_size= config['batch_size'], shuffle=True)\n",
        "    return dataloader, meta_data"
      ]
    },
    {
      "cell_type": "code",
      "execution_count": 39,
      "metadata": {
        "id": "G7CNBwvoRb6x"
      },
      "outputs": [],
      "source": [
        "import json\n",
        "\n",
        "with open('config.json', 'r') as json_file:\n",
        "    config = json.load(json_file)"
      ]
    },
    {
      "cell_type": "code",
      "execution_count": 40,
      "metadata": {
        "id": "BcUElnalRb6x"
      },
      "outputs": [],
      "source": [
        "from pathlib import Path\n",
        "\n",
        "def get_weights_path(config, epoch):\n",
        "    model_base = config[\"model_basename\"]\n",
        "    file_name = f'{model_base}epoch{epoch}.pth'\n",
        "    return str(Path('.')/file_name)"
      ]
    },
    {
      "cell_type": "code",
      "execution_count": 41,
      "metadata": {
        "colab": {
          "base_uri": "https://localhost:8080/",
          "height": 36
        },
        "id": "hBAH4HLcBVHl",
        "outputId": "cde952f1-1ab1-468d-fe46-39ae3061eb30"
      },
      "outputs": [
        {
          "data": {
            "text/plain": [
              "'emotion_model_epoch10.pth'"
            ]
          },
          "execution_count": 41,
          "metadata": {},
          "output_type": "execute_result"
        }
      ],
      "source": [
        "get_weights_path(config, 10)"
      ]
    },
    {
      "cell_type": "code",
      "execution_count": 42,
      "metadata": {
        "id": "yj5h4_E3Rb6x"
      },
      "outputs": [],
      "source": [
        "def build_model(vocab_size, seq_len,\n",
        "                num_classes,\n",
        "                embed_dim=512, num_heads = 8,\n",
        "                num_encoders = 6,\n",
        "                dropout = 0.1, encoder_ff_out_dim = 2048) -> Model:\n",
        "    inp_embedding = InputEmbedding(embed_dim, vocab_size)\n",
        "    pos_embedding = PositionalEmbedding(embed_dim, seq_len, dropout)\n",
        "\n",
        "    encoder_blocks = []\n",
        "    for _ in range(num_encoders):\n",
        "        self_attention_block = MultiHeadAttention(embed_dim, num_heads, dropout)\n",
        "        feed_forward = FeedForward(embed_dim, encoder_ff_out_dim, dropout)\n",
        "        encoder_blocks.append(EncoderBlock(self_attention_block, feed_forward, dropout))\n",
        "\n",
        "    encoder = Encoder(nn.ModuleList(encoder_blocks))\n",
        "\n",
        "    mlp = MultiLayerPerceptron(embed_dim, 512, num_classes)\n",
        "\n",
        "    return Model(inp_embedding, pos_embedding, encoder, mlp)\n"
      ]
    },
    {
      "cell_type": "code",
      "execution_count": 43,
      "metadata": {
        "id": "1BKdHxr5Rb6x"
      },
      "outputs": [],
      "source": [
        "input_list = df['text'].tolist()\n",
        "\n",
        "# Labels are already encoded\n",
        "label_list = [[label] for label in df['label']]\n",
        "\n",
        "dataloader, meta_data = prepare_data(input_list, label_list, config)"
      ]
    },
    {
      "cell_type": "code",
      "execution_count": 32,
      "metadata": {
        "id": "63aBuF1_Rb6x"
      },
      "outputs": [],
      "source": [
        "import torch.optim as optim\n",
        "from tensorboardX import SummaryWriter\n",
        "import os\n",
        "\n",
        "def train(config):\n",
        "    torch.cuda.empty_cache()\n",
        "    device = torch.device('cuda' if torch.cuda.is_available() else 'cpu')\n",
        "    print(f'Using device {device}')\n",
        "\n",
        "    writer = SummaryWriter()\n",
        "\n",
        "    # input_list = dataframe['description'].tolist()\n",
        "    # label_list = [[label] for label in dataframe['genre']]\n",
        "    # label_encoder = OneHotEncoder(sparse=False)\n",
        "\n",
        "    # dataloader, meta_data = prepare_data(input_list, label_list, label_encoder, config)\n",
        "\n",
        "    print(config)\n",
        "    model = build_model(\n",
        "        meta_data['vocab_size'],\n",
        "        config['seq_len'],\n",
        "        config['num_classes'],\n",
        "        config['embed_dim']\n",
        "        )\n",
        "\n",
        "    model = model.to(device)\n",
        "\n",
        "    print(f\"Model has {sum(p.numel() for p in model.parameters())} parameters\")\n",
        "\n",
        "    checkpoint_dir = PROJECT_DIR+config['model_folder']\n",
        "    # os.makedirs(checkpoint_dir, exist_ok=True)\n",
        "\n",
        "    should_preload = config['preload']\n",
        "\n",
        "    if should_preload == \"True\":\n",
        "        checkpoint_filename = get_weights_path(config, config['preload_epoch'])\n",
        "        checkpoint = torch.load(checkpoint_dir+\"/\"+checkpoint_filename)\n",
        "        model.load_state_dict(checkpoint['model_state_dict'])\n",
        "        print(\"Loaded model weights!\")\n",
        "\n",
        "    NUM_EPOCHS = config['epochs']\n",
        "    lr = config['learning_rate']\n",
        "    optimizer = optim.Adam(model.parameters(), lr=lr)\n",
        "    criterion = nn.CrossEntropyLoss()\n",
        "\n",
        "    for epoch in range(NUM_EPOCHS):\n",
        "        model.train()\n",
        "\n",
        "        total_loss = 0.0\n",
        "        total_correct = 0\n",
        "\n",
        "        for batch in dataloader:\n",
        "            input_ids = batch[\"input_ids\"]\n",
        "            attention_mask = batch[\"attention_mask\"]\n",
        "            labels = batch[\"labels\"]\n",
        "\n",
        "            input_ids = input_ids.to(device)\n",
        "            attention_mask = attention_mask.to(device)\n",
        "            labels = labels.to(device)\n",
        "\n",
        "            outputs = model(input_ids, attention_mask)\n",
        "\n",
        "            labels = labels.squeeze().type(torch.int64)\n",
        "\n",
        "            loss = criterion(outputs, labels)\n",
        "\n",
        "            optimizer.zero_grad()\n",
        "            loss.backward()\n",
        "            optimizer.step()\n",
        "\n",
        "            _, predicted = torch.max(outputs, 1)\n",
        "\n",
        "            total_correct += (predicted == labels).sum().item()\n",
        "\n",
        "            total_loss += loss.item()\n",
        "\n",
        "        average_loss = total_loss / len(dataloader)\n",
        "        accuracy = total_correct / len(dataloader.dataset)\n",
        "\n",
        "        print(f\"Epoch [{epoch + 1}/{NUM_EPOCHS}]\")\n",
        "        print(f\"Loss: {average_loss:.4f}, Accuracy: {accuracy * 100:.2f}%\")\n",
        "\n",
        "        checkpoint_filename = os.path.join(checkpoint_dir, f'{config[\"model_basename\"]}{epoch+1}.pth')\n",
        "        torch.save({\n",
        "            'epoch': epoch,\n",
        "            'model_state_dict': model.state_dict(),\n",
        "            'optimizer_state_dict': optimizer.state_dict(),\n",
        "            'loss': loss.item(),\n",
        "        }, checkpoint_filename)\n",
        "\n",
        "        writer.add_scalar(\"Training Loss\", average_loss, epoch)\n",
        "        writer.add_scalar(\"Training Accuracy\", accuracy, epoch)\n",
        "\n",
        "    writer.close()\n",
        "\n",
        "    return model"
      ]
    },
    {
      "cell_type": "code",
      "execution_count": 33,
      "metadata": {
        "colab": {
          "base_uri": "https://localhost:8080/"
        },
        "id": "M52VoTRRRb6y",
        "outputId": "68848786-41c9-4ee4-c032-c67f41620681"
      },
      "outputs": [
        {
          "name": "stdout",
          "output_type": "stream",
          "text": [
            "Using device cuda\n",
            "{'batch_size': 64, 'learning_rate': 0.0005, 'seq_len': 256, 'epochs': 5, 'num_classes': 6, 'embed_dim': 512, 'tokenizer': 'bert_tokenizer', 'model_folder': 'weights', 'model_basename': 'emotion_model_', 'preload': 'False', 'preload_epoch': None}\n",
            "Model has 34795040 parameters\n",
            "Epoch [1/5]\n",
            "Loss: 1.1422, Accuracy: 56.01%\n",
            "Epoch [2/5]\n",
            "Loss: 0.4532, Accuracy: 83.85%\n",
            "Epoch [3/5]\n",
            "Loss: 0.3128, Accuracy: 88.26%\n",
            "Epoch [4/5]\n",
            "Loss: 0.2311, Accuracy: 91.11%\n",
            "Epoch [5/5]\n",
            "Loss: 0.1935, Accuracy: 92.51%\n"
          ]
        }
      ],
      "source": [
        "# model = train(config=config)"
      ]
    },
    {
      "cell_type": "code",
      "execution_count": 44,
      "metadata": {
        "id": "AwdOcKEw8HVf"
      },
      "outputs": [],
      "source": [
        "test_data = emotions[\"test\"][\"text\"].tolist()\n",
        "test_label = emotions[\"test\"][\"label\"].tolist()"
      ]
    },
    {
      "cell_type": "code",
      "execution_count": 45,
      "metadata": {
        "id": "bqOMCGm68bKO"
      },
      "outputs": [],
      "source": [
        "testdataloader, meta_data = prepare_data(test_data, test_label, config)"
      ]
    },
    {
      "cell_type": "code",
      "execution_count": 48,
      "metadata": {},
      "outputs": [
        {
          "name": "stdout",
          "output_type": "stream",
          "text": [
            "Using device cpu\n"
          ]
        }
      ],
      "source": [
        "device = torch.device('cuda' if torch.cuda.is_available() else 'cpu')\n",
        "print(f'Using device {device}')"
      ]
    },
    {
      "cell_type": "code",
      "execution_count": 68,
      "metadata": {},
      "outputs": [],
      "source": [
        "def get_model_with_weights(config):\n",
        "    model = build_model(\n",
        "        meta_data['vocab_size'],\n",
        "        config['seq_len'],\n",
        "        config['num_classes'],\n",
        "        config['embed_dim']\n",
        "        )\n",
        "\n",
        "    checkpoint_filename = get_weights_path(config, 5)\n",
        "    checkpoint_filename = config['model_folder']+\"/\"+checkpoint_filename\n",
        "    checkpoint = torch.load(checkpoint_filename, map_location=torch.device(device))\n",
        "    model.load_state_dict(checkpoint['model_state_dict'])\n",
        "    return model"
      ]
    },
    {
      "cell_type": "code",
      "execution_count": 50,
      "metadata": {
        "id": "aXKOi3X99eMg"
      },
      "outputs": [],
      "source": [
        "def test(model, dataloader, device):\n",
        "    \n",
        "    model.eval()\n",
        "\n",
        "    total_correct = 0\n",
        "\n",
        "    device = torch.device('cuda' if torch.cuda.is_available() else 'cpu')\n",
        "    print(f'Using device {device}')\n",
        "\n",
        "    preds = []\n",
        "    true_labels = []\n",
        "\n",
        "    with torch.no_grad():\n",
        "        for batch in dataloader:\n",
        "            input_ids = batch[\"input_ids\"]\n",
        "            attention_mask = batch[\"attention_mask\"]\n",
        "            labels = batch[\"labels\"]\n",
        "\n",
        "            input_ids = input_ids.to(device)\n",
        "            attention_mask = attention_mask.to(device)\n",
        "            labels = labels.to(device)\n",
        "\n",
        "            labels = labels.squeeze().type(torch.int64)\n",
        "\n",
        "            outputs = model(input_ids, attention_mask)\n",
        "\n",
        "            _, predicted = torch.max(outputs, 1)\n",
        "\n",
        "            preds.extend(predicted.cpu().numpy())\n",
        "            true_labels.extend(labels.cpu().numpy())\n",
        "\n",
        "            total_correct += (predicted == labels).sum().item()\n",
        "\n",
        "    print(f\"Test Accuracy: {total_correct / len(dataloader.dataset) * 100:.2f}%\")\n",
        "    return preds, true_labels"
      ]
    },
    {
      "cell_type": "code",
      "execution_count": 69,
      "metadata": {},
      "outputs": [],
      "source": [
        "model = get_model_with_weights(config)"
      ]
    },
    {
      "cell_type": "code",
      "execution_count": 51,
      "metadata": {
        "colab": {
          "base_uri": "https://localhost:8080/"
        },
        "id": "BBgyjhrW-RS5",
        "outputId": "43f100ce-acbd-4f1e-dd2c-5444e4ee704f"
      },
      "outputs": [
        {
          "name": "stdout",
          "output_type": "stream",
          "text": [
            "Using device cpu\n",
            "Test Accuracy: 88.10%\n"
          ]
        }
      ],
      "source": [
        "predictions, labels = test(model, testdataloader, device)"
      ]
    },
    {
      "cell_type": "code",
      "execution_count": 53,
      "metadata": {},
      "outputs": [],
      "source": [
        "prediction_label_names = emotions[\"test\"].features[\"label\"].int2str(predictions)\n",
        "true_label_names = emotions[\"test\"].features[\"label\"].int2str(labels)"
      ]
    },
    {
      "cell_type": "code",
      "execution_count": 67,
      "metadata": {},
      "outputs": [
        {
          "data": {
            "image/png": "[encoded data removed]",
            "text/plain": [
              "<Figure size 800x600 with 1 Axes>"
            ]
          },
          "metadata": {},
          "output_type": "display_data"
        }
      ],
      "source": [
        "from sklearn.metrics import confusion_matrix\n",
        "\n",
        "confusion = confusion_matrix(true_label_names, prediction_label_names)\n",
        "normalized_confusion = confusion.astype('float') / confusion.sum(axis=1)[:, np.newaxis]\n",
        "\n",
        "class_names = emotions[\"test\"].features[\"label\"].names\n",
        "\n",
        "plt.figure(figsize=(8, 6))\n",
        "sns.set(font_scale=1)\n",
        "sns.heatmap(normalized_confusion, annot=True, cmap=\"Blues\", cbar=False, xticklabels=class_names, yticklabels=class_names)\n",
        "\n",
        "plt.xlabel('Predicted')\n",
        "plt.ylabel('True')\n",
        "plt.title('Confusion Matrix')\n",
        "plt.show()"
      ]
    },
    {
      "cell_type": "code",
      "execution_count": 70,
      "metadata": {},
      "outputs": [],
      "source": [
        "def get_idx_label_mapping():\n",
        "    idx_label_map = {}\n",
        "    for i, emotion in enumerate(emotions[\"test\"].features[\"label\"].names):\n",
        "        idx_label_map[i] = emotion\n",
        "    return idx_label_map"
      ]
    },
    {
      "cell_type": "code",
      "execution_count": 71,
      "metadata": {},
      "outputs": [],
      "source": [
        "label_mapping = get_idx_label_mapping()"
      ]
    },
    {
      "cell_type": "code",
      "execution_count": 73,
      "metadata": {},
      "outputs": [],
      "source": [
        "def inference(input, model, label_mapping):\n",
        "    tokenizer = BertTokenizer.from_pretrained('bert-base-uncased')\n",
        "    tokenized_text = tokenizer(input, padding='max_length', truncation=True,\n",
        "                                max_length=config[\"seq_len\"], return_tensors='pt',\n",
        "                                return_attention_mask='True')\n",
        "    tokenized_input = tokenized_text[\"input_ids\"]\n",
        "    attention_mask = tokenized_text[\"attention_mask\"]\n",
        "\n",
        "    return model(tokenized_input, attention_mask), label_mapping "
      ]
    },
    {
      "cell_type": "code",
      "execution_count": 100,
      "metadata": {},
      "outputs": [],
      "source": [
        "output, label_mapping = inference(\"I hate this. I am annoyed that I had to pay so much for this crap!\", model, label_mapping)"
      ]
    },
    {
      "cell_type": "code",
      "execution_count": 101,
      "metadata": {},
      "outputs": [
        {
          "name": "stdout",
          "output_type": "stream",
          "text": [
            "tensor(3) {0: 'sadness', 1: 'joy', 2: 'love', 3: 'anger', 4: 'fear', 5: 'surprise'}\n"
          ]
        }
      ],
      "source": [
        "print(torch.argmax(output), label_mapping)"
      ]
    }
  ],
  "metadata": {
    "accelerator": "GPU",
    "colab": {
      "gpuType": "A100",
      "machine_shape": "hm",
      "provenance": []
    },
    "kernelspec": {
      "display_name": "Python 3",
      "name": "python3"
    },
    "language_info": {
      "codemirror_mode": {
        "name": "ipython",
        "version": 3
      },
      "file_extension": ".py",
      "mimetype": "text/x-python",
      "name": "python",
      "nbconvert_exporter": "python",
      "pygments_lexer": "ipython3",
      "version": "3.10.12"
    },
    "orig_nbformat": 4
  },
  "nbformat": 4,
  "nbformat_minor": 0
}
